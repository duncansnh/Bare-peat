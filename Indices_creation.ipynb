{
  "nbformat": 4,
  "nbformat_minor": 0,
  "metadata": {
    "colab": {
      "name": "Indices_creation.ipynb",
      "provenance": [],
      "collapsed_sections": [],
      "machine_shape": "hm",
      "include_colab_link": true
    },
    "kernelspec": {
      "name": "python3",
      "display_name": "Python 3"
    }
  },
  "cells": [
    {
      "cell_type": "markdown",
      "metadata": {
        "id": "view-in-github",
        "colab_type": "text"
      },
      "source": [
        "<a href=\"https://colab.research.google.com/github/duncansnh/Bare-peat/blob/master/Indices_creation.ipynb\" target=\"_parent\"><img src=\"https://colab.research.google.com/assets/colab-badge.svg\" alt=\"Open In Colab\"/></a>"
      ]
    },
    {
      "cell_type": "markdown",
      "metadata": {
        "id": "AzhcWTCF4xvQ",
        "colab_type": "text"
      },
      "source": [
        "Script to create indices from ARD of 10 bands from Sentinel 2. Creates 23 band raster (float 32). (note - If the number of indices is altered, count= will need updating. ) Forms basis of supervised classification for bare peat mapping. December 2019.\n",
        "     "
      ]
    },
    {
      "cell_type": "code",
      "metadata": {
        "id": "bQ4BbT9b5SGT",
        "colab_type": "code",
        "colab": {}
      },
      "source": [
        "#This is only required if running in colab notebook to install the libraries\n",
        "#If running Python code elsewhere need to make sure below libraries are installed\n",
        "! pip install geopandas\n",
        "! pip install descartes\n",
        "! pip install rasterio\n",
        "! pip install rasterstats"
      ],
      "execution_count": 0,
      "outputs": []
    },
    {
      "cell_type": "code",
      "metadata": {
        "id": "ZqbFH-cc48L1",
        "colab_type": "code",
        "colab": {}
      },
      "source": [
        "import pandas as pd\n",
        "import numpy as np\n",
        "import matplotlib.pyplot as plt\n",
        "import os\n",
        "import json\n",
        "from sklearn.model_selection import train_test_split\n",
        "import geopandas as gpd\n",
        "import descartes\n",
        "import rasterio\n",
        "from rasterio.mask import mask\n",
        "from rasterio.features import geometry_mask\n",
        "from shapely.geometry import mapping\n",
        "from rasterstats import zonal_stats\n",
        "import datetime"
      ],
      "execution_count": 0,
      "outputs": []
    },
    {
      "cell_type": "code",
      "metadata": {
        "id": "YUp4Uh2R5sZh",
        "colab_type": "code",
        "colab": {}
      },
      "source": [
        "#Only if running in Google Colab, in which case input image, training polygons and output results need to be in Google Drive.\n",
        "from google.colab import drive\n",
        "drive.mount('/content/drive/', force_remount=True)"
      ],
      "execution_count": 0,
      "outputs": []
    },
    {
      "cell_type": "markdown",
      "metadata": {
        "id": "AMsQ8v3Ro1ns",
        "colab_type": "text"
      },
      "source": [
        "Open/ create log file, set working drive."
      ]
    },
    {
      "cell_type": "code",
      "metadata": {
        "id": "MYjD-LPt48Ml",
        "colab_type": "code",
        "colab": {}
      },
      "source": [
        "\n",
        "wd = '/content/drive/My Drive'\n",
        "iteration = 'ML14'\n",
        "logname = iteration + '.txt'\n",
        "filename= os.path.join(wd,'Log_files', logname)\n",
        "file_object = open(filename,\"x\")"
      ],
      "execution_count": 0,
      "outputs": []
    },
    {
      "cell_type": "markdown",
      "metadata": {
        "id": "3BaBVh-E48M-",
        "colab_type": "text"
      },
      "source": [
        "###Set image directory"
      ]
    },
    {
      "cell_type": "code",
      "metadata": {
        "id": "x-Kn8iYc48NE",
        "colab_type": "code",
        "colab": {}
      },
      "source": [
        "image_dir = os.path.join(wd, 'Imagery')\n",
        "\n"
      ],
      "execution_count": 0,
      "outputs": []
    },
    {
      "cell_type": "markdown",
      "metadata": {
        "id": "3E9FaSJ3wE4C",
        "colab_type": "text"
      },
      "source": [
        "###Start timer log."
      ]
    },
    {
      "cell_type": "code",
      "metadata": {
        "id": "jt0EWgFlwI-L",
        "colab_type": "code",
        "colab": {}
      },
      "source": [
        "starttime1 = datetime.datetime.now()"
      ],
      "execution_count": 0,
      "outputs": []
    },
    {
      "cell_type": "markdown",
      "metadata": {
        "id": "kVIFMdeuwhIu",
        "colab_type": "text"
      },
      "source": [
        "###'open' input 10 band raster, update profile for output"
      ]
    },
    {
      "cell_type": "code",
      "metadata": {
        "id": "yI995WqY48Nw",
        "colab_type": "code",
        "colab": {}
      },
      "source": [
        "#Read image\n",
        "s2 = rasterio.open(os.path.join(image_dir,'S2_MLarea14.tif'))\n",
        "#Print number of bands\n",
        "B = s2.count\n",
        "print(B)\n",
        "print(s2.shape)\n",
        "#Copy raster profile to for later output\n",
        "s2prof = s2.profile.copy()\n"
      ],
      "execution_count": 0,
      "outputs": []
    },
    {
      "cell_type": "markdown",
      "metadata": {
        "id": "DTMDIR7qzk6a",
        "colab_type": "text"
      },
      "source": [
        "#calculate 23 indices for whole image - windowed read/ write"
      ]
    },
    {
      "cell_type": "code",
      "metadata": {
        "colab_type": "code",
        "id": "zDQj1jbQziKq",
        "colab": {}
      },
      "source": [
        "\n",
        "#output greater than 4GB therefore needs to be BigTIFF\n",
        "s2prof.update(count=23, nodata=None, dtype=np.float32, BIGTIFF=\"IF_SAFER\")\n",
        "print((s2prof))\n",
        "\n",
        "with rasterio.open(os.path.join(image_dir,'{}_23_indices.tif'.format(iteration)), 'w', **s2prof) as dst:\n",
        "  for block_index, window in dst.block_windows(1):\n",
        "    #read in each band for current window\n",
        "    s2_block_blue = s2.read(1, window=window, masked=True).astype(float)\n",
        "    s2_block_green = s2.read(2, window=window, masked=True).astype(float)\n",
        "    s2_block_red = s2.read(3, window=window, masked=True).astype(float)\n",
        "    s2_block_re5 = s2.read(4, window=window, masked=True).astype(float)\n",
        "    s2_block_re6 = s2.read(5, window=window, masked=True).astype(float)\n",
        "    s2_block_re7 = s2.read(6, window=window, masked=True).astype(float)\n",
        "    s2_block_NIR = s2.read(7, window=window, masked=True).astype(float)\n",
        "    s2_block_NIR8A = s2.read(8, window=window, masked=True).astype(float)\n",
        "    s2_block_SWIR1 = s2.read(9, window=window, masked=True).astype(float)\n",
        "    s2_block_SWIR2 = s2.read(10, window=window, masked=True).astype(float)\n",
        "    \n",
        "    v = s2_block_red.shape\n",
        "    print((v))\n",
        "    print((s2_block_red[0,100]))\n",
        "    np.seterr(divide='ignore', invalid = 'ignore' ) #ignore errors from calculating indices/ ratios#over= 'ignore', under = 'ignore' \n",
        "\n",
        "    #calculate indices and convert to float\n",
        "    ndvi = ((s2_block_NIR - s2_block_red)/(s2_block_NIR + s2_block_red))\n",
        "    ndvi = ndvi.astype(rasterio.float32)\n",
        "    Gndvi=((s2_block_NIR - s2_block_green)/(s2_block_NIR + s2_block_green))\n",
        "    Gndvi= Gndvi.astype(rasterio.float32)\n",
        "    Bndvi=((s2_block_NIR - s2_block_blue)/(s2_block_NIR + s2_block_blue)).astype(rasterio.float32)\n",
        "    Re5ndvi=((s2_block_re5 - s2_block_red)/(s2_block_re5 + s2_block_red)).astype(rasterio.float32)\n",
        "    Re6ndvi=((s2_block_re6 - s2_block_red)/(s2_block_re6 + s2_block_red)).astype(rasterio.float32)\n",
        "    Re7ndvi=((s2_block_re7 - s2_block_red)/(s2_block_re7 + s2_block_red)).astype(rasterio.float32)\n",
        "    Re8Andvi=((s2_block_NIR8A - s2_block_red)/(s2_block_NIR8A + s2_block_red)).astype(rasterio.float32)\n",
        "    Re6Gndvi=((s2_block_re6 - s2_block_green)/(s2_block_re6 + s2_block_green)).astype(rasterio.float32)\n",
        "    Re7Gndvi=((s2_block_re7 - s2_block_green)/(s2_block_re7 + s2_block_green)).astype(rasterio.float32)\n",
        "    Re8AGndvi=((s2_block_NIR8A - s2_block_green)/(s2_block_NIR8A + s2_block_green)).astype(rasterio.float32)\n",
        "    NDWI=((s2_block_green - s2_block_NIR)/(s2_block_green + s2_block_NIR)).astype(rasterio.float32)\n",
        "    mDNWI=((s2_block_green - s2_block_SWIR1)/(s2_block_green + s2_block_SWIR1)).astype(rasterio.float32)\n",
        "    mNDVI=((s2_block_re7 - s2_block_re5)/(s2_block_re7 + s2_block_re5)).astype(rasterio.float32)\n",
        "    darkness=((s2_block_blue+s2_block_green+s2_block_red)/3).astype(rasterio.float32)\n",
        "    ratioblueSWIR1= (s2_block_blue/s2_block_SWIR1).astype(rasterio.float32)\n",
        "    ratioNIRgreen=(s2_block_NIR/s2_block_green).astype(rasterio.float32)\n",
        "    ratioredSWIR1=(s2_block_red/s2_block_SWIR1).astype(rasterio.float32)\n",
        "    ratioRe5SWIR2=(s2_block_re5/s2_block_SWIR2).astype(rasterio.float32)\n",
        "    ratioRe5SWIR1=(s2_block_re5/s2_block_SWIR1).astype(rasterio.float32)\n",
        "    ratiogreenSWIR1=(s2_block_green/s2_block_SWIR1).astype(rasterio.float32)\n",
        "    ratioRe7SWIR1=(s2_block_re7/s2_block_SWIR1).astype(rasterio.float32)\n",
        "    ratioRe8ASWIR1=(s2_block_NIR8A/s2_block_SWIR1).astype(rasterio.float32)\n",
        "    ratioRe6SWIR1=(s2_block_re6/s2_block_SWIR1).astype(rasterio.float32)\n",
        "\n",
        "    print((ratioRe8ASWIR1[0,100]))\n",
        "    print((window))\n",
        "    #write results for current window\n",
        "    dst.write_band(1, ndvi, window = window)\n",
        "    dst.write_band(2, Gndvi, window = window)\n",
        "    dst.write_band(3, Bndvi, window = window)\n",
        "    dst.write_band(4, Re5ndvi, window = window)\n",
        "    dst.write_band(5, Re6ndvi, window = window)\n",
        "    dst.write_band(6, Re7ndvi, window = window)\n",
        "    dst.write_band(7, Re8Andvi, window = window)\n",
        "    dst.write_band(8, Re6Gndvi, window = window)\n",
        "    dst.write_band(9, Re7Gndvi, window = window)\n",
        "    dst.write_band(10, Re8AGndvi, window = window)\n",
        "    dst.write_band(11, NDWI, window = window)\n",
        "    dst.write_band(12, mDNWI, window = window)\n",
        "    dst.write_band(13, mNDVI, window = window)\n",
        "    dst.write_band(14, darkness, window = window)\n",
        "    dst.write_band(15, ratioblueSWIR1, window = window)\n",
        "    dst.write_band(16, ratioNIRgreen, window = window)\n",
        "    dst.write_band(17, ratioredSWIR1, window = window)\n",
        "    dst.write_band(18, ratioRe5SWIR2, window = window)\n",
        "    dst.write_band(19, ratioRe5SWIR1, window = window)\n",
        "    dst.write_band(20, ratiogreenSWIR1, window = window)\n",
        "    dst.write_band(21, ratioRe7SWIR1, window = window)\n",
        "    dst.write_band(22, ratioRe8ASWIR1, window = window)\n",
        "    dst.write_band(23, ratioRe6SWIR1, window = window)\n"
      ],
      "execution_count": 0,
      "outputs": []
    },
    {
      "cell_type": "code",
      "metadata": {
        "id": "1GhaxK2uDb_I",
        "colab_type": "code",
        "colab": {}
      },
      "source": [
        ""
      ],
      "execution_count": 0,
      "outputs": []
    },
    {
      "cell_type": "markdown",
      "metadata": {
        "id": "Weikflrgw6Jk",
        "colab_type": "text"
      },
      "source": [
        "record time taken "
      ]
    },
    {
      "cell_type": "code",
      "metadata": {
        "id": "dVMH7pKFxIdO",
        "colab_type": "code",
        "colab": {}
      },
      "source": [
        "endtime1=datetime.datetime.now()\n",
        "deltatime1=endtime1-starttime1\n",
        "print ((deltatime1))\n",
        "print((\"Time to read in S2 image:  {0}  hr:min:sec\".format(deltatime1))) # jupyter notebook records time taken\n",
        "file_object.write(\"Time to read in S2 image:  {0}  hr:min:sec\".format(deltatime1))                        \n"
      ],
      "execution_count": 0,
      "outputs": []
    },
    {
      "cell_type": "markdown",
      "metadata": {
        "id": "0B6ls-OXlqPQ",
        "colab_type": "text"
      },
      "source": [
        "Visualise image, check output\n"
      ]
    },
    {
      "cell_type": "code",
      "metadata": {
        "id": "b7bj0F3ilp5x",
        "colab_type": "code",
        "colab": {}
      },
      "source": [
        "from matplotlib import pyplot\n",
        "plotraster = rasterio.open(os.path.join(image_dir,'{}_23_indices.tif'.format(iteration)))\n",
        "\n",
        "pyplot.imshow(plotraster.read(14),cmap='pink')\n",
        "pyplot.show()\n",
        "\n",
        "#img = plotraster.read(10)\n",
        "#print((img.shape))\n",
        "\n",
        "\n",
        "from rasterio.plot import show\n",
        "\n",
        "show(plotraster.read(10))\n",
        "\n",
        "plotraster.close()\n"
      ],
      "execution_count": 0,
      "outputs": []
    }
  ]
}